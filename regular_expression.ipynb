{
 "cells": [
  {
   "cell_type": "markdown",
   "metadata": {},
   "source": [
    "1. Date Detection\\\n",
    "We need a regular expression to match dates in the DD/MM/YYYY format, and then we will write additional code to check if the date is valid based on the rules provided."
   ]
  },
  {
   "cell_type": "code",
   "execution_count": null,
   "metadata": {},
   "outputs": [
    {
     "name": "stdout",
     "output_type": "stream",
     "text": [
      "False\n",
      "False\n"
     ]
    }
   ],
   "source": [
    "import re\n",
    "\n",
    "# Regular expression to match date in DD/MM/YYYY format\n",
    "date_pattern = r\"^(0[1-9]|[12][0-9]|3[01])/(0[1-9]|1[0-2])/\\d{4}$\"\n",
    "\n",
    "def validate_date(date):\n",
    "    # Check if date matches the pattern\n",
    "    match = re.match(date_pattern, date)\n",
    "    if match:\n",
    "        day, month, year = map(int, date.split('/'))\n",
    "        \n",
    "        # Check if the date is valid considering the number of days in each month\n",
    "        if (month in [4, 6, 9, 11] and day > 30) or (month == 2 and day > 29):\n",
    "            return False  # Invalid day for the month\n",
    "        if month == 2 and day == 29:\n",
    "            # Check for leap year\n",
    "            if not (year % 4 == 0 and (year % 100 != 0 or year % 400 == 0)):\n",
    "                return False  # Invalid day for February in a non-leap year\n",
    "        if day > 31:\n",
    "            return False  # Invalid day\n",
    "\n",
    "        return True\n",
    "    return False\n",
    "\n",
    "# Example usage:\n",
    "date = \"29/02/2025\"\n",
    "print(validate_date(date))  # False (2025 wasn't a leap year)\n",
    "\n",
    "date = \"31/04/2021\"\n",
    "print(validate_date(date))  # False (April has only 30 days)\n"
   ]
  },
  {
   "cell_type": "markdown",
   "metadata": {},
   "source": [
    "2. Strong Password Detection\n",
    "To validate strong passwords, we need a regular expression that checks for the following:\\\n",
    "At least 8 characters long.\\\n",
    "Contains at least one uppercase letter.\\\n",
    "Contains at least one lowercase letter.\\\n",
    "Contains at least one digit."
   ]
  },
  {
   "cell_type": "code",
   "execution_count": 9,
   "metadata": {},
   "outputs": [
    {
     "name": "stdout",
     "output_type": "stream",
     "text": [
      "False\n",
      "True\n"
     ]
    }
   ],
   "source": [
    "import re\n",
    "\n",
    "def is_strong_password(password):\n",
    "    # Regular expression for strong password\n",
    "    password_pattern = r\"^(?=.*[a-z])(?=.*[A-Z])(?=.*\\d)[A-Za-z\\d]{8,}$\"\n",
    "    \n",
    "    if re.match(password_pattern, password):\n",
    "        return True\n",
    "    return False\n",
    "\n",
    "# Example usage:\n",
    "password = \"Str0ngPssw@1\"\n",
    "print(is_strong_password(password))  # False (contains special char)\n",
    "\n",
    "password = \"Str0ngPass1\"\n",
    "print(is_strong_password(password))  # True (valid strong password)\n"
   ]
  },
  {
   "cell_type": "markdown",
   "metadata": {},
   "source": [
    "3. Regex Version of strip() Method\\\n",
    "The goal is to create a function that mimics Python's strip() method using regular expressions. The strip() method removes whitespace from the beginning and end of a string, but we will also allow removing custom characters."
   ]
  },
  {
   "cell_type": "code",
   "execution_count": null,
   "metadata": {},
   "outputs": [
    {
     "name": "stdout",
     "output_type": "stream",
     "text": [
      "Hello World!\n",
      "Hello World!\n"
     ]
    }
   ],
   "source": [
    "import re\n",
    "\n",
    "def regex_strip(s, chars=None):\n",
    "    if chars is None:\n",
    "        # Remove whitespace by default\n",
    "        return re.sub(r\"^\\s+|\\s+$\", \"\", s)\n",
    "    else:\n",
    "        # Remove specified characters\n",
    "        return re.sub(f\"^[{re.escape(chars)}]+|[{re.escape(chars)}]+$\", \"\", s)\n",
    "\n",
    "# Example usage:\n",
    "text = \"  Hello World!  \"\n",
    "print(regex_strip(text))  \n",
    "text_with_chars = \"xxxHello World!xxx\"\n",
    "print(regex_strip(text_with_chars, \"x\"))  \n"
   ]
  }
 ],
 "metadata": {
  "kernelspec": {
   "display_name": "Python 3",
   "language": "python",
   "name": "python3"
  },
  "language_info": {
   "codemirror_mode": {
    "name": "ipython",
    "version": 3
   },
   "file_extension": ".py",
   "mimetype": "text/x-python",
   "name": "python",
   "nbconvert_exporter": "python",
   "pygments_lexer": "ipython3",
   "version": "3.12.0"
  }
 },
 "nbformat": 4,
 "nbformat_minor": 2
}
